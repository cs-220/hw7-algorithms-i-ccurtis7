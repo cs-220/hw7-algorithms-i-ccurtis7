{
 "cells": [
  {
   "cell_type": "markdown",
   "metadata": {},
   "source": [
    "# Problem 1\n",
    "\n",
    "Computer scientists often use numbering systems other than base 10. Write a program that allows the user to enter a number and a base and then prints out the digits of the number in the new base. Use a recursive function baseConversion(num, base) to print the digits.\n",
    "\n",
    "Hint: Consider base 10. To get the rightmost digit of a base 10 number, simply look at the remainder after dividing by 10. For example, 153 % 10 is 3. To get the remaining digits, you repeat the process on 15, which is just 153 // 10. The same process works for any base. The only problem is that we get the digits in reverse order (right to left).\n",
    "\n",
    "The base case for the recursion occurs when `num` is less than `base` and the output is simply `num`. In the general case, the function (recursively) returns the digits of `num` // `base` and then prints `num` % `base`. You should put a space between successive outputs, sinces bases greater than 10 will print multi-character \"digits\". For example, baseConversion(1234, 16) should print 4 13 2."
   ]
  },
  {
   "cell_type": "code",
   "execution_count": null,
   "metadata": {},
   "outputs": [],
   "source": []
  },
  {
   "cell_type": "code",
   "execution_count": null,
   "metadata": {},
   "outputs": [],
   "source": []
  },
  {
   "cell_type": "markdown",
   "metadata": {},
   "source": [
    "# Problem 2\n",
    "\n",
    "Automated spell-checkers are used to analyze documents and locate words that might be misspelled. These programs work by comparing each word in the document to a large dictionary of words. Any word not found in the dictionary, it is flagged as potentially incorrect.\n",
    "\n",
    "Write a program to perform spell-checking on a text file. To do this, you will need to get a large file of English words in alphabetical order. A quick search on the internet should turn up something usable.\n",
    "\n",
    "Your program should prompt the user for a file to analyze and then look up every word in the file using binary search. If a word is not found in the dictionary, print it on the screen as potentially incorrect."
   ]
  },
  {
   "cell_type": "code",
   "execution_count": 1,
   "metadata": {},
   "outputs": [
    {
     "data": {
      "text/plain": [
       "True"
      ]
     },
     "execution_count": 1,
     "metadata": {},
     "output_type": "execute_result"
    }
   ],
   "source": [
    "'edge' < 'flip'"
   ]
  },
  {
   "cell_type": "code",
   "execution_count": 2,
   "metadata": {},
   "outputs": [
    {
     "data": {
      "text/plain": [
       "False"
      ]
     },
     "execution_count": 2,
     "metadata": {},
     "output_type": "execute_result"
    }
   ],
   "source": [
    "'edge' < 'apple'"
   ]
  },
  {
   "cell_type": "code",
   "execution_count": null,
   "metadata": {},
   "outputs": [],
   "source": []
  }
 ],
 "metadata": {
  "kernelspec": {
   "display_name": "Python 3 (ipykernel)",
   "language": "python",
   "name": "python3"
  },
  "language_info": {
   "codemirror_mode": {
    "name": "ipython",
    "version": 3
   },
   "file_extension": ".py",
   "mimetype": "text/x-python",
   "name": "python",
   "nbconvert_exporter": "python",
   "pygments_lexer": "ipython3",
   "version": "3.8.8"
  }
 },
 "nbformat": 4,
 "nbformat_minor": 4
}
